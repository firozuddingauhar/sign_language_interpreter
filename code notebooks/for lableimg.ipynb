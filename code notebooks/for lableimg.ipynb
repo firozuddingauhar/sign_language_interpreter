{
 "cells": [
  {
   "cell_type": "code",
   "execution_count": 26,
   "metadata": {},
   "outputs": [],
   "source": [
    "# Import opencv\n",
    "import cv2 \n",
    "\n",
    "# Import uuid\n",
    "import uuid\n",
    "\n",
    "# Import Operating System\n",
    "import os\n",
    "\n",
    "# Import time\n",
    "import time\n"
   ]
  },
  {
   "cell_type": "code",
   "execution_count": 27,
   "metadata": {},
   "outputs": [],
   "source": [
    "LABELIMG_PATH = os.path.join('Tensorflow', 'labelimg')"
   ]
  },
  {
   "cell_type": "code",
   "execution_count": 28,
   "metadata": {},
   "outputs": [],
   "source": [
    "if not os.path.exists(LABELIMG_PATH):\n",
    "    !mkdir {LABELIMG_PATH}\n",
    "    !git clone https://github.com/tzutalin/labelImg {LABELIMG_PATH}"
   ]
  },
  {
   "cell_type": "code",
   "execution_count": 29,
   "metadata": {},
   "outputs": [],
   "source": [
    "if os.name == 'posix':\n",
    "    !cd {LABELIMG_PATH} && make qt5py3\n",
    "if os.name =='nt':\n",
    "    !cd {LABELIMG_PATH} && pyrcc5 -o libs/resources.py resources.qrc"
   ]
  },
  {
   "cell_type": "code",
   "execution_count": 30,
   "metadata": {},
   "outputs": [
    {
     "name": "stdout",
     "output_type": "stream",
     "text": [
      "Cancel creation.\n",
      "Image:C:\\RealTimeObjectDetection\\Tensorflow\\workspace\\images\\collectedimages\\yes.25683e02-a9df-11ed-9143-7c5079e5959c.jpg -> Annotation:C:/RealTimeObjectDetection/Tensorflow/workspace/images/collectedimages\\yes.25683e02-a9df-11ed-9143-7c5079e5959c.xml\n",
      "Image:C:\\RealTimeObjectDetection\\Tensorflow\\workspace\\images\\collectedimages\\hackjmi.7cb25af0-a9df-11ed-b615-7c5079e5959c.jpg -> Annotation:C:/RealTimeObjectDetection/Tensorflow/workspace/images/collectedimages\\hackjmi.7cb25af0-a9df-11ed-b615-7c5079e5959c.xml\n",
      "Image:C:\\RealTimeObjectDetection\\Tensorflow\\workspace\\images\\collectedimages\\hackjmi.7deae1a4-a9df-11ed-84ef-7c5079e5959c.jpg -> Annotation:C:/RealTimeObjectDetection/Tensorflow/workspace/images/collectedimages\\hackjmi.7deae1a4-a9df-11ed-84ef-7c5079e5959c.xml\n",
      "Image:C:\\RealTimeObjectDetection\\Tensorflow\\workspace\\images\\collectedimages\\hackjmi.7f228cae-a9df-11ed-932e-7c5079e5959c.jpg -> Annotation:C:/RealTimeObjectDetection/Tensorflow/workspace/images/collectedimages\\hackjmi.7f228cae-a9df-11ed-932e-7c5079e5959c.xml\n",
      "Image:C:\\RealTimeObjectDetection\\Tensorflow\\workspace\\images\\collectedimages\\hackjmi.71c52768-a9df-11ed-ad13-7c5079e5959c.jpg -> Annotation:C:/RealTimeObjectDetection/Tensorflow/workspace/images/collectedimages\\hackjmi.71c52768-a9df-11ed-ad13-7c5079e5959c.xml\n",
      "Image:C:\\RealTimeObjectDetection\\Tensorflow\\workspace\\images\\collectedimages\\hackjmi.72fbc701-a9df-11ed-a365-7c5079e5959c.jpg -> Annotation:C:/RealTimeObjectDetection/Tensorflow/workspace/images/collectedimages\\hackjmi.72fbc701-a9df-11ed-a365-7c5079e5959c.xml\n",
      "Image:C:\\RealTimeObjectDetection\\Tensorflow\\workspace\\images\\collectedimages\\hackjmi.76a08783-a9df-11ed-aab9-7c5079e5959c.jpg -> Annotation:C:/RealTimeObjectDetection/Tensorflow/workspace/images/collectedimages\\hackjmi.76a08783-a9df-11ed-aab9-7c5079e5959c.xml\n",
      "Image:C:\\RealTimeObjectDetection\\Tensorflow\\workspace\\images\\collectedimages\\hackjmi.82c5385a-a9df-11ed-8bb4-7c5079e5959c.jpg -> Annotation:C:/RealTimeObjectDetection/Tensorflow/workspace/images/collectedimages\\hackjmi.82c5385a-a9df-11ed-8bb4-7c5079e5959c.xml\n",
      "Image:C:\\RealTimeObjectDetection\\Tensorflow\\workspace\\images\\collectedimages\\hackjmi.83fd2b33-a9df-11ed-8c95-7c5079e5959c.jpg -> Annotation:C:/RealTimeObjectDetection/Tensorflow/workspace/images/collectedimages\\hackjmi.83fd2b33-a9df-11ed-8c95-7c5079e5959c.xml\n",
      "Image:C:\\RealTimeObjectDetection\\Tensorflow\\workspace\\images\\collectedimages\\hackjmi.708d2a3f-a9df-11ed-b767-7c5079e5959c.jpg -> Annotation:C:/RealTimeObjectDetection/Tensorflow/workspace/images/collectedimages\\hackjmi.708d2a3f-a9df-11ed-b767-7c5079e5959c.xml\n",
      "Image:C:\\RealTimeObjectDetection\\Tensorflow\\workspace\\images\\collectedimages\\hackjmi.790d8a89-a9df-11ed-89f0-7c5079e5959c.jpg -> Annotation:C:/RealTimeObjectDetection/Tensorflow/workspace/images/collectedimages\\hackjmi.790d8a89-a9df-11ed-89f0-7c5079e5959c.xml\n",
      "Image:C:\\RealTimeObjectDetection\\Tensorflow\\workspace\\images\\collectedimages\\hackjmi.818e8e21-a9df-11ed-919c-7c5079e5959c.jpg -> Annotation:C:/RealTimeObjectDetection/Tensorflow/workspace/images/collectedimages\\hackjmi.818e8e21-a9df-11ed-919c-7c5079e5959c.xml\n",
      "Image:C:\\RealTimeObjectDetection\\Tensorflow\\workspace\\images\\collectedimages\\hackjmi.879ff3cf-a9df-11ed-8cb7-7c5079e5959c.jpg -> Annotation:C:/RealTimeObjectDetection/Tensorflow/workspace/images/collectedimages\\hackjmi.879ff3cf-a9df-11ed-8cb7-7c5079e5959c.xml\n",
      "Image:C:\\RealTimeObjectDetection\\Tensorflow\\workspace\\images\\collectedimages\\hackjmi.7569a3d9-a9df-11ed-bea5-7c5079e5959c.jpg -> Annotation:C:/RealTimeObjectDetection/Tensorflow/workspace/images/collectedimages\\hackjmi.7569a3d9-a9df-11ed-bea5-7c5079e5959c.xml\n",
      "Image:C:\\RealTimeObjectDetection\\Tensorflow\\workspace\\images\\collectedimages\\hackjmi.8056e8d0-a9df-11ed-9c29-7c5079e5959c.jpg -> Annotation:C:/RealTimeObjectDetection/Tensorflow/workspace/images/collectedimages\\hackjmi.8056e8d0-a9df-11ed-9c29-7c5079e5959c.xml\n",
      "Image:C:\\RealTimeObjectDetection\\Tensorflow\\workspace\\images\\collectedimages\\hackjmi.853336f4-a9df-11ed-a44d-7c5079e5959c.jpg -> Annotation:C:/RealTimeObjectDetection/Tensorflow/workspace/images/collectedimages\\hackjmi.853336f4-a9df-11ed-a44d-7c5079e5959c.xml\n",
      "Image:C:\\RealTimeObjectDetection\\Tensorflow\\workspace\\images\\collectedimages\\hello.d96ee14d-a9de-11ed-85a8-7c5079e5959c.jpg -> Annotation:C:/RealTimeObjectDetection/Tensorflow/workspace/images/collectedimages\\hello.d96ee14d-a9de-11ed-85a8-7c5079e5959c.xml\n",
      "Image:C:\\RealTimeObjectDetection\\Tensorflow\\workspace\\images\\collectedimages\\hello.d837e7d5-a9de-11ed-b7d7-7c5079e5959c.jpg -> Annotation:C:/RealTimeObjectDetection/Tensorflow/workspace/images/collectedimages\\hello.d837e7d5-a9de-11ed-b7d7-7c5079e5959c.xml\n",
      "Image:C:\\RealTimeObjectDetection\\Tensorflow\\workspace\\images\\collectedimages\\hello.dd144e3f-a9de-11ed-9749-7c5079e5959c.jpg -> Annotation:C:/RealTimeObjectDetection/Tensorflow/workspace/images/collectedimages\\hello.dd144e3f-a9de-11ed-9749-7c5079e5959c.xml\n",
      "Image:C:\\RealTimeObjectDetection\\Tensorflow\\workspace\\images\\collectedimages\\hello.de4affa0-a9de-11ed-9f82-7c5079e5959c.jpg -> Annotation:C:/RealTimeObjectDetection/Tensorflow/workspace/images/collectedimages\\hello.de4affa0-a9de-11ed-9f82-7c5079e5959c.xml\n",
      "Image:C:\\RealTimeObjectDetection\\Tensorflow\\workspace\\images\\collectedimages\\hello.df82b6d0-a9de-11ed-8d7b-7c5079e5959c.jpg -> Annotation:C:/RealTimeObjectDetection/Tensorflow/workspace/images/collectedimages\\hello.df82b6d0-a9de-11ed-8d7b-7c5079e5959c.xml\n",
      "Image:C:\\RealTimeObjectDetection\\Tensorflow\\workspace\\images\\collectedimages\\hello.e0b9af11-a9de-11ed-b954-7c5079e5959c.jpg -> Annotation:C:/RealTimeObjectDetection/Tensorflow/workspace/images/collectedimages\\hello.e0b9af11-a9de-11ed-b954-7c5079e5959c.xml\n",
      "Image:C:\\RealTimeObjectDetection\\Tensorflow\\workspace\\images\\collectedimages\\hello.e1ef9d3e-a9de-11ed-994e-7c5079e5959c.jpg -> Annotation:C:/RealTimeObjectDetection/Tensorflow/workspace/images/collectedimages\\hello.e1ef9d3e-a9de-11ed-994e-7c5079e5959c.xml\n",
      "Image:C:\\RealTimeObjectDetection\\Tensorflow\\workspace\\images\\collectedimages\\hello.e6cb30d9-a9de-11ed-b4bb-7c5079e5959c.jpg -> Annotation:C:/RealTimeObjectDetection/Tensorflow/workspace/images/collectedimages\\hello.e6cb30d9-a9de-11ed-b4bb-7c5079e5959c.xml\n",
      "Image:C:\\RealTimeObjectDetection\\Tensorflow\\workspace\\images\\collectedimages\\hello.e45c86e2-a9de-11ed-957b-7c5079e5959c.jpg -> Annotation:C:/RealTimeObjectDetection/Tensorflow/workspace/images/collectedimages\\hello.e45c86e2-a9de-11ed-957b-7c5079e5959c.xml\n",
      "Image:C:\\RealTimeObjectDetection\\Tensorflow\\workspace\\images\\collectedimages\\hello.e803b730-a9de-11ed-a994-7c5079e5959c.jpg -> Annotation:C:/RealTimeObjectDetection/Tensorflow/workspace/images/collectedimages\\hello.e803b730-a9de-11ed-a994-7c5079e5959c.xml\n",
      "Image:C:\\RealTimeObjectDetection\\Tensorflow\\workspace\\images\\collectedimages\\hello.e326488b-a9de-11ed-9026-7c5079e5959c.jpg -> Annotation:C:/RealTimeObjectDetection/Tensorflow/workspace/images/collectedimages\\hello.e326488b-a9de-11ed-9026-7c5079e5959c.xml\n",
      "Image:C:\\RealTimeObjectDetection\\Tensorflow\\workspace\\images\\collectedimages\\hello.e5943781-a9de-11ed-8ff1-7c5079e5959c.jpg -> Annotation:C:/RealTimeObjectDetection/Tensorflow/workspace/images/collectedimages\\hello.e5943781-a9de-11ed-8ff1-7c5079e5959c.xml\n",
      "Image:C:\\RealTimeObjectDetection\\Tensorflow\\workspace\\images\\collectedimages\\hello.eba8c158-a9de-11ed-bcf4-7c5079e5959c.jpg -> Annotation:C:/RealTimeObjectDetection/Tensorflow/workspace/images/collectedimages\\hello.eba8c158-a9de-11ed-bcf4-7c5079e5959c.xml\n",
      "Image:C:\\RealTimeObjectDetection\\Tensorflow\\workspace\\images\\collectedimages\\hello.ece0b160-a9de-11ed-b9a8-7c5079e5959c.jpg -> Annotation:C:/RealTimeObjectDetection/Tensorflow/workspace/images/collectedimages\\hello.ece0b160-a9de-11ed-b9a8-7c5079e5959c.xml\n",
      "Image:C:\\RealTimeObjectDetection\\Tensorflow\\workspace\\images\\collectedimages\\hello.ee167faf-a9de-11ed-ac8d-7c5079e5959c.jpg -> Annotation:C:/RealTimeObjectDetection/Tensorflow/workspace/images/collectedimages\\hello.ee167faf-a9de-11ed-ac8d-7c5079e5959c.xml\n",
      "Image:C:\\RealTimeObjectDetection\\Tensorflow\\workspace\\images\\collectedimages\\iloveyou.5a3e1630-a9df-11ed-b3ca-7c5079e5959c.jpg -> Annotation:C:/RealTimeObjectDetection/Tensorflow/workspace/images/collectedimages\\iloveyou.5a3e1630-a9df-11ed-b3ca-7c5079e5959c.xml\n",
      "Image:C:\\RealTimeObjectDetection\\Tensorflow\\workspace\\images\\collectedimages\\iloveyou.5b74e44f-a9df-11ed-a5e8-7c5079e5959c.jpg -> Annotation:C:/RealTimeObjectDetection/Tensorflow/workspace/images/collectedimages\\iloveyou.5b74e44f-a9df-11ed-a5e8-7c5079e5959c.xml\n",
      "Image:C:\\RealTimeObjectDetection\\Tensorflow\\workspace\\images\\collectedimages\\iloveyou.5cabfd3b-a9df-11ed-bda3-7c5079e5959c.jpg -> Annotation:C:/RealTimeObjectDetection/Tensorflow/workspace/images/collectedimages\\iloveyou.5cabfd3b-a9df-11ed-bda3-7c5079e5959c.xml\n",
      "Image:C:\\RealTimeObjectDetection\\Tensorflow\\workspace\\images\\collectedimages\\iloveyou.5de5d9bd-a9df-11ed-9f3a-7c5079e5959c.jpg -> Annotation:C:/RealTimeObjectDetection/Tensorflow/workspace/images/collectedimages\\iloveyou.5de5d9bd-a9df-11ed-9f3a-7c5079e5959c.xml\n",
      "Image:C:\\RealTimeObjectDetection\\Tensorflow\\workspace\\images\\collectedimages\\iloveyou.51c1748c-a9df-11ed-b84e-7c5079e5959c.jpg -> Annotation:C:/RealTimeObjectDetection/Tensorflow/workspace/images/collectedimages\\iloveyou.51c1748c-a9df-11ed-b84e-7c5079e5959c.xml\n",
      "Image:C:\\RealTimeObjectDetection\\Tensorflow\\workspace\\images\\collectedimages\\iloveyou.57d11373-a9df-11ed-8e25-7c5079e5959c.jpg -> Annotation:C:/RealTimeObjectDetection/Tensorflow/workspace/images/collectedimages\\iloveyou.57d11373-a9df-11ed-8e25-7c5079e5959c.xml\n",
      "Image:C:\\RealTimeObjectDetection\\Tensorflow\\workspace\\images\\collectedimages\\iloveyou.62c2fe50-a9df-11ed-b6cc-7c5079e5959c.jpg -> Annotation:C:/RealTimeObjectDetection/Tensorflow/workspace/images/collectedimages\\iloveyou.62c2fe50-a9df-11ed-b6cc-7c5079e5959c.xml\n",
      "Image:C:\\RealTimeObjectDetection\\Tensorflow\\workspace\\images\\collectedimages\\iloveyou.63fa3560-a9df-11ed-986b-7c5079e5959c.jpg -> Annotation:C:/RealTimeObjectDetection/Tensorflow/workspace/images/collectedimages\\iloveyou.63fa3560-a9df-11ed-986b-7c5079e5959c.xml\n",
      "Image:C:\\RealTimeObjectDetection\\Tensorflow\\workspace\\images\\collectedimages\\iloveyou.67a1427c-a9df-11ed-a8a8-7c5079e5959c.jpg -> Annotation:C:/RealTimeObjectDetection/Tensorflow/workspace/images/collectedimages\\iloveyou.67a1427c-a9df-11ed-a8a8-7c5079e5959c.xml\n",
      "Image:C:\\RealTimeObjectDetection\\Tensorflow\\workspace\\images\\collectedimages\\iloveyou.68d8ea38-a9df-11ed-8b33-7c5079e5959c.jpg -> Annotation:C:/RealTimeObjectDetection/Tensorflow/workspace/images/collectedimages\\iloveyou.68d8ea38-a9df-11ed-8b33-7c5079e5959c.xml\n",
      "Image:C:\\RealTimeObjectDetection\\Tensorflow\\workspace\\images\\collectedimages\\iloveyou.542d2876-a9df-11ed-a051-7c5079e5959c.jpg -> Annotation:C:/RealTimeObjectDetection/Tensorflow/workspace/images/collectedimages\\iloveyou.542d2876-a9df-11ed-a051-7c5079e5959c.xml\n",
      "Image:C:\\RealTimeObjectDetection\\Tensorflow\\workspace\\images\\collectedimages\\iloveyou.618a09ec-a9df-11ed-ad0b-7c5079e5959c.jpg -> Annotation:C:/RealTimeObjectDetection/Tensorflow/workspace/images/collectedimages\\iloveyou.618a09ec-a9df-11ed-ad0b-7c5079e5959c.xml\n",
      "Image:C:\\RealTimeObjectDetection\\Tensorflow\\workspace\\images\\collectedimages\\iloveyou.6052a21e-a9df-11ed-aecf-7c5079e5959c.jpg -> Annotation:C:/RealTimeObjectDetection/Tensorflow/workspace/images/collectedimages\\iloveyou.6052a21e-a9df-11ed-aecf-7c5079e5959c.xml\n",
      "Image:C:\\RealTimeObjectDetection\\Tensorflow\\workspace\\images\\collectedimages\\iloveyou.6668c6ce-a9df-11ed-97c8-7c5079e5959c.jpg -> Annotation:C:/RealTimeObjectDetection/Tensorflow/workspace/images/collectedimages\\iloveyou.6668c6ce-a9df-11ed-97c8-7c5079e5959c.xml\n",
      "Image:C:\\RealTimeObjectDetection\\Tensorflow\\workspace\\images\\collectedimages\\iloveyou.556477fd-a9df-11ed-98dc-7c5079e5959c.jpg -> Annotation:C:/RealTimeObjectDetection/Tensorflow/workspace/images/collectedimages\\iloveyou.556477fd-a9df-11ed-98dc-7c5079e5959c.xml\n",
      "Image:C:\\RealTimeObjectDetection\\Tensorflow\\workspace\\images\\collectedimages\\no.3b92645a-a9df-11ed-8d5e-7c5079e5959c.jpg -> Annotation:C:/RealTimeObjectDetection/Tensorflow/workspace/images/collectedimages\\no.3b92645a-a9df-11ed-8d5e-7c5079e5959c.xml\n",
      "Image:C:\\RealTimeObjectDetection\\Tensorflow\\workspace\\images\\collectedimages\\no.3cc9da0f-a9df-11ed-a4ca-7c5079e5959c.jpg -> Annotation:C:/RealTimeObjectDetection/Tensorflow/workspace/images/collectedimages\\no.3cc9da0f-a9df-11ed-a4ca-7c5079e5959c.xml\n",
      "Image:C:\\RealTimeObjectDetection\\Tensorflow\\workspace\\images\\collectedimages\\no.3f396be7-a9df-11ed-8f53-7c5079e5959c.jpg -> Annotation:C:/RealTimeObjectDetection/Tensorflow/workspace/images/collectedimages\\no.3f396be7-a9df-11ed-8f53-7c5079e5959c.xml\n",
      "Image:C:\\RealTimeObjectDetection\\Tensorflow\\workspace\\images\\collectedimages\\no.4a2a22be-a9df-11ed-bb7c-7c5079e5959c.jpg -> Annotation:C:/RealTimeObjectDetection/Tensorflow/workspace/images/collectedimages\\no.4a2a22be-a9df-11ed-bb7c-7c5079e5959c.xml\n",
      "Image:C:\\RealTimeObjectDetection\\Tensorflow\\workspace\\images\\collectedimages\\no.36b6ee52-a9df-11ed-a493-7c5079e5959c.jpg -> Annotation:C:/RealTimeObjectDetection/Tensorflow/workspace/images/collectedimages\\no.36b6ee52-a9df-11ed-a493-7c5079e5959c.xml\n",
      "Image:C:\\RealTimeObjectDetection\\Tensorflow\\workspace\\images\\collectedimages\\no.37ed7881-a9df-11ed-973d-7c5079e5959c.jpg -> Annotation:C:/RealTimeObjectDetection/Tensorflow/workspace/images/collectedimages\\no.37ed7881-a9df-11ed-973d-7c5079e5959c.xml\n",
      "Image:C:\\RealTimeObjectDetection\\Tensorflow\\workspace\\images\\collectedimages\\no.47bb968c-a9df-11ed-aaab-7c5079e5959c.jpg -> Annotation:C:/RealTimeObjectDetection/Tensorflow/workspace/images/collectedimages\\no.47bb968c-a9df-11ed-aaab-7c5079e5959c.xml\n",
      "Image:C:\\RealTimeObjectDetection\\Tensorflow\\workspace\\images\\collectedimages\\no.330ee7cd-a9df-11ed-b867-7c5079e5959c.jpg -> Annotation:C:/RealTimeObjectDetection/Tensorflow/workspace/images/collectedimages\\no.330ee7cd-a9df-11ed-b867-7c5079e5959c.xml\n",
      "Image:C:\\RealTimeObjectDetection\\Tensorflow\\workspace\\images\\collectedimages\\no.357e3945-a9df-11ed-b3be-7c5079e5959c.jpg -> Annotation:C:/RealTimeObjectDetection/Tensorflow/workspace/images/collectedimages\\no.357e3945-a9df-11ed-b3be-7c5079e5959c.xml\n",
      "Image:C:\\RealTimeObjectDetection\\Tensorflow\\workspace\\images\\collectedimages\\no.406f21d0-a9df-11ed-8bcd-7c5079e5959c.jpg -> Annotation:C:/RealTimeObjectDetection/Tensorflow/workspace/images/collectedimages\\no.406f21d0-a9df-11ed-8bcd-7c5079e5959c.xml\n",
      "Image:C:\\RealTimeObjectDetection\\Tensorflow\\workspace\\images\\collectedimages\\no.3446e8bd-a9df-11ed-ba58-7c5079e5959c.jpg -> Annotation:C:/RealTimeObjectDetection/Tensorflow/workspace/images/collectedimages\\no.3446e8bd-a9df-11ed-ba58-7c5079e5959c.xml\n",
      "Image:C:\\RealTimeObjectDetection\\Tensorflow\\workspace\\images\\collectedimages\\no.3924c158-a9df-11ed-80fb-7c5079e5959c.jpg -> Annotation:C:/RealTimeObjectDetection/Tensorflow/workspace/images/collectedimages\\no.3924c158-a9df-11ed-80fb-7c5079e5959c.xml\n",
      "Image:C:\\RealTimeObjectDetection\\Tensorflow\\workspace\\images\\collectedimages\\no.44159cd7-a9df-11ed-b5d9-7c5079e5959c.jpg -> Annotation:C:/RealTimeObjectDetection/Tensorflow/workspace/images/collectedimages\\no.44159cd7-a9df-11ed-b5d9-7c5079e5959c.xml\n",
      "Image:C:\\RealTimeObjectDetection\\Tensorflow\\workspace\\images\\collectedimages\\thanks.0b9c85af-a9df-11ed-a42a-7c5079e5959c.jpg -> Annotation:C:/RealTimeObjectDetection/Tensorflow/workspace/images/collectedimages\\thanks.0b9c85af-a9df-11ed-a42a-7c5079e5959c.xml\n",
      "Image:C:\\RealTimeObjectDetection\\Tensorflow\\workspace\\images\\collectedimages\\thanks.01e19c7f-a9df-11ed-bb43-7c5079e5959c.jpg -> Annotation:C:/RealTimeObjectDetection/Tensorflow/workspace/images/collectedimages\\thanks.01e19c7f-a9df-11ed-bb43-7c5079e5959c.xml\n",
      "Image:C:\\RealTimeObjectDetection\\Tensorflow\\workspace\\images\\collectedimages\\thanks.06bfc812-a9df-11ed-b70e-7c5079e5959c.jpg -> Annotation:C:/RealTimeObjectDetection/Tensorflow/workspace/images/collectedimages\\thanks.06bfc812-a9df-11ed-b70e-7c5079e5959c.xml\n",
      "Image:C:\\RealTimeObjectDetection\\Tensorflow\\workspace\\images\\collectedimages\\thanks.07f6d2f9-a9df-11ed-8fa6-7c5079e5959c.jpg -> Annotation:C:/RealTimeObjectDetection/Tensorflow/workspace/images/collectedimages\\thanks.07f6d2f9-a9df-11ed-8fa6-7c5079e5959c.xml\n",
      "Image:C:\\RealTimeObjectDetection\\Tensorflow\\workspace\\images\\collectedimages\\thanks.092de132-a9df-11ed-b7ba-7c5079e5959c.jpg -> Annotation:C:/RealTimeObjectDetection/Tensorflow/workspace/images/collectedimages\\thanks.092de132-a9df-11ed-b7ba-7c5079e5959c.xml\n",
      "Image:C:\\RealTimeObjectDetection\\Tensorflow\\workspace\\images\\collectedimages\\thanks.0317c12e-a9df-11ed-add6-7c5079e5959c.jpg -> Annotation:C:/RealTimeObjectDetection/Tensorflow/workspace/images/collectedimages\\thanks.0317c12e-a9df-11ed-add6-7c5079e5959c.xml\n",
      "Image:C:\\RealTimeObjectDetection\\Tensorflow\\workspace\\images\\collectedimages\\thanks.045068a4-a9df-11ed-af13-7c5079e5959c.jpg -> Annotation:C:/RealTimeObjectDetection/Tensorflow/workspace/images/collectedimages\\thanks.045068a4-a9df-11ed-af13-7c5079e5959c.xml\n",
      "Image:C:\\RealTimeObjectDetection\\Tensorflow\\workspace\\images\\collectedimages\\thanks.058823d3-a9df-11ed-be99-7c5079e5959c.jpg -> Annotation:C:/RealTimeObjectDetection/Tensorflow/workspace/images/collectedimages\\thanks.058823d3-a9df-11ed-be99-7c5079e5959c.xml\n",
      "Image:C:\\RealTimeObjectDetection\\Tensorflow\\workspace\\images\\collectedimages\\thanks.f5b4183e-a9de-11ed-a794-7c5079e5959c.jpg -> Annotation:C:/RealTimeObjectDetection/Tensorflow/workspace/images/collectedimages\\thanks.f5b4183e-a9de-11ed-a794-7c5079e5959c.xml\n",
      "Image:C:\\RealTimeObjectDetection\\Tensorflow\\workspace\\images\\collectedimages\\thanks.f6eb504d-a9de-11ed-9fc6-7c5079e5959c.jpg -> Annotation:C:/RealTimeObjectDetection/Tensorflow/workspace/images/collectedimages\\thanks.f6eb504d-a9de-11ed-9fc6-7c5079e5959c.xml\n",
      "Image:C:\\RealTimeObjectDetection\\Tensorflow\\workspace\\images\\collectedimages\\thanks.f82267ca-a9de-11ed-8301-7c5079e5959c.jpg -> Annotation:C:/RealTimeObjectDetection/Tensorflow/workspace/images/collectedimages\\thanks.f82267ca-a9de-11ed-8301-7c5079e5959c.xml\n",
      "Image:C:\\RealTimeObjectDetection\\Tensorflow\\workspace\\images\\collectedimages\\thanks.fbc9f810-a9de-11ed-bfd5-7c5079e5959c.jpg -> Annotation:C:/RealTimeObjectDetection/Tensorflow/workspace/images/collectedimages\\thanks.fbc9f810-a9de-11ed-bfd5-7c5079e5959c.xml\n",
      "Image:C:\\RealTimeObjectDetection\\Tensorflow\\workspace\\images\\collectedimages\\thanks.fd02585a-a9de-11ed-8d53-7c5079e5959c.jpg -> Annotation:C:/RealTimeObjectDetection/Tensorflow/workspace/images/collectedimages\\thanks.fd02585a-a9de-11ed-8d53-7c5079e5959c.xml\n",
      "Image:C:\\RealTimeObjectDetection\\Tensorflow\\workspace\\images\\collectedimages\\thanks.fe39ce1e-a9de-11ed-8ed5-7c5079e5959c.jpg -> Annotation:C:/RealTimeObjectDetection/Tensorflow/workspace/images/collectedimages\\thanks.fe39ce1e-a9de-11ed-8ed5-7c5079e5959c.xml\n",
      "Image:C:\\RealTimeObjectDetection\\Tensorflow\\workspace\\images\\collectedimages\\thanks.ff71711b-a9de-11ed-bf35-7c5079e5959c.jpg -> Annotation:C:/RealTimeObjectDetection/Tensorflow/workspace/images/collectedimages\\thanks.ff71711b-a9de-11ed-bf35-7c5079e5959c.xml\n",
      "Image:C:\\RealTimeObjectDetection\\Tensorflow\\workspace\\images\\collectedimages\\yes.1bb1f517-a9df-11ed-ae7a-7c5079e5959c.jpg -> Annotation:C:/RealTimeObjectDetection/Tensorflow/workspace/images/collectedimages\\yes.1bb1f517-a9df-11ed-ae7a-7c5079e5959c.xml\n",
      "Image:C:\\RealTimeObjectDetection\\Tensorflow\\workspace\\images\\collectedimages\\yes.1e1f9fa5-a9df-11ed-a1ca-7c5079e5959c.jpg -> Annotation:C:/RealTimeObjectDetection/Tensorflow/workspace/images/collectedimages\\yes.1e1f9fa5-a9df-11ed-a1ca-7c5079e5959c.xml\n",
      "Image:C:\\RealTimeObjectDetection\\Tensorflow\\workspace\\images\\collectedimages\\yes.1f56d0a9-a9df-11ed-a631-7c5079e5959c.jpg -> Annotation:C:/RealTimeObjectDetection/Tensorflow/workspace/images/collectedimages\\yes.1f56d0a9-a9df-11ed-a631-7c5079e5959c.xml\n",
      "Image:C:\\RealTimeObjectDetection\\Tensorflow\\workspace\\images\\collectedimages\\yes.2a458acc-a9df-11ed-a975-7c5079e5959c.jpg -> Annotation:C:/RealTimeObjectDetection/Tensorflow/workspace/images/collectedimages\\yes.2a458acc-a9df-11ed-a975-7c5079e5959c.xml\n",
      "Image:C:\\RealTimeObjectDetection\\Tensorflow\\workspace\\images\\collectedimages\\yes.2b7bb3b9-a9df-11ed-8b96-7c5079e5959c.jpg -> Annotation:C:/RealTimeObjectDetection/Tensorflow/workspace/images/collectedimages\\yes.2b7bb3b9-a9df-11ed-8b96-7c5079e5959c.xml\n",
      "Image:C:\\RealTimeObjectDetection\\Tensorflow\\workspace\\images\\collectedimages\\yes.16d4949a-a9df-11ed-8b66-7c5079e5959c.jpg -> Annotation:C:/RealTimeObjectDetection/Tensorflow/workspace/images/collectedimages\\yes.16d4949a-a9df-11ed-8b66-7c5079e5959c.xml\n",
      "Image:C:\\RealTimeObjectDetection\\Tensorflow\\workspace\\images\\collectedimages\\yes.21c4b76d-a9df-11ed-8bc2-7c5079e5959c.jpg -> Annotation:C:/RealTimeObjectDetection/Tensorflow/workspace/images/collectedimages\\yes.21c4b76d-a9df-11ed-8bc2-7c5079e5959c.xml\n",
      "Image:C:\\RealTimeObjectDetection\\Tensorflow\\workspace\\images\\collectedimages\\yes.22fa74e1-a9df-11ed-b99b-7c5079e5959c.jpg -> Annotation:C:/RealTimeObjectDetection/Tensorflow/workspace/images/collectedimages\\yes.22fa74e1-a9df-11ed-b99b-7c5079e5959c.xml\n",
      "Image:C:\\RealTimeObjectDetection\\Tensorflow\\workspace\\images\\collectedimages\\yes.159dc22f-a9df-11ed-907f-7c5079e5959c.jpg -> Annotation:C:/RealTimeObjectDetection/Tensorflow/workspace/images/collectedimages\\yes.159dc22f-a9df-11ed-907f-7c5079e5959c.xml\n",
      "Image:C:\\RealTimeObjectDetection\\Tensorflow\\workspace\\images\\collectedimages\\yes.180bd0df-a9df-11ed-b66b-7c5079e5959c.jpg -> Annotation:C:/RealTimeObjectDetection/Tensorflow/workspace/images/collectedimages\\yes.180bd0df-a9df-11ed-b66b-7c5079e5959c.xml\n",
      "Image:C:\\RealTimeObjectDetection\\Tensorflow\\workspace\\images\\collectedimages\\yes.269f28bf-a9df-11ed-b54c-7c5079e5959c.jpg -> Annotation:C:/RealTimeObjectDetection/Tensorflow/workspace/images/collectedimages\\yes.269f28bf-a9df-11ed-b54c-7c5079e5959c.xml\n",
      "Image:C:\\RealTimeObjectDetection\\Tensorflow\\workspace\\images\\collectedimages\\yes.1467cbcf-a9df-11ed-abb3-7c5079e5959c.jpg -> Annotation:C:/RealTimeObjectDetection/Tensorflow/workspace/images/collectedimages\\yes.1467cbcf-a9df-11ed-abb3-7c5079e5959c.xml\n",
      "Image:C:\\RealTimeObjectDetection\\Tensorflow\\workspace\\images\\collectedimages\\yes.1943b913-a9df-11ed-a6f6-7c5079e5959c.jpg -> Annotation:C:/RealTimeObjectDetection/Tensorflow/workspace/images/collectedimages\\yes.1943b913-a9df-11ed-a6f6-7c5079e5959c.xml\n",
      "Image:C:\\RealTimeObjectDetection\\Tensorflow\\workspace\\images\\collectedimages\\yes.24315e54-a9df-11ed-98a3-7c5079e5959c.jpg -> Annotation:C:/RealTimeObjectDetection/Tensorflow/workspace/images/collectedimages\\yes.24315e54-a9df-11ed-98a3-7c5079e5959c.xml\n",
      "Image:C:\\RealTimeObjectDetection\\Tensorflow\\workspace\\images\\collectedimages\\no.42ddf6dd-a9df-11ed-aa8a-7c5079e5959c.jpg -> Annotation:C:/RealTimeObjectDetection/Tensorflow/workspace/images/collectedimages\\no.42ddf6dd-a9df-11ed-aa8a-7c5079e5959c.xml\n",
      "Image:C:\\RealTimeObjectDetection\\Tensorflow\\workspace\\images\\collectedimages\\no.48f3e2c5-a9df-11ed-bfac-7c5079e5959c.jpg -> Annotation:C:/RealTimeObjectDetection/Tensorflow/workspace/images/collectedimages\\no.48f3e2c5-a9df-11ed-bfac-7c5079e5959c.xml\n"
     ]
    }
   ],
   "source": [
    "!cd {LABELIMG_PATH} && python labelImg.py"
   ]
  }
 ],
 "metadata": {
  "kernelspec": {
   "display_name": "Python 3",
   "language": "python",
   "name": "python3"
  },
  "language_info": {
   "codemirror_mode": {
    "name": "ipython",
    "version": 3
   },
   "file_extension": ".py",
   "mimetype": "text/x-python",
   "name": "python",
   "nbconvert_exporter": "python",
   "pygments_lexer": "ipython3",
   "version": "3.10.10"
  },
  "orig_nbformat": 4,
  "vscode": {
   "interpreter": {
    "hash": "efe6f04435d855c9e5b8ba10646cc9915e988050151d704d1505ac4970f6d48b"
   }
  }
 },
 "nbformat": 4,
 "nbformat_minor": 2
}
